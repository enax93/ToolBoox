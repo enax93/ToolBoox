{
 "cells": [
  {
   "cell_type": "markdown",
   "metadata": {},
   "source": [
    "# Función 'describe_df'"
   ]
  },
  {
   "cell_type": "code",
   "execution_count": 1,
   "metadata": {},
   "outputs": [],
   "source": [
    "import pandas as pd"
   ]
  },
  {
   "cell_type": "code",
   "execution_count": null,
   "metadata": {},
   "outputs": [],
   "source": [
    "def describe_df(df):\n",
    "    \"\"\"\n",
    "    Genera un resumen estadístico de un dataframe proporcionando información sobre el tipo de datos,\n",
    "    porcentaje de valores nulos, valores únicos y cardinalidad de cada columna.\n",
    "\n",
    "    Argumentos:\n",
    "    df (pd.DataFrame): El dataframe a describir.\n",
    "\n",
    "    Retorna:\n",
    "    pd.DataFrame: Un nuevo dataframe con las estadísticas de cada columna del dataframe original.\n",
    "    \"\"\"\n",
    "    # Preparar el dataframe de resumen\n",
    "    summary = pd.DataFrame(index=['type', 'percent_missing', 'unique', 'cardinality'])\n",
    "\n",
    "    # Rellenar el dataframe de resumen\n",
    "    for col in df.columns:\n",
    "        # Tipo de dato\n",
    "        dtype = df[col].dtype\n",
    "        # Porcentaje de valores nulos\n",
    "        percent_missing = df[col].isna().mean() * 100\n",
    "        # Número de valores únicos\n",
    "        unique = df[col].nunique()\n",
    "        # Cardinalidad\n",
    "        cardinality = (unique / len(df)) * 100\n",
    "\n",
    "        # Añadir la columna al dataframe de resumen\n",
    "        summary[col] = [dtype, percent_missing, unique, cardinality]\n",
    "    \n",
    "    return summary.transpose()\n",
    "\n"
   ]
  },
  {
   "cell_type": "code",
   "execution_count": null,
   "metadata": {},
   "outputs": [],
   "source": [
    "# Ejemplo de uso\n",
    "# Supongamos que `data` es tu DataFrame del Titanic\n",
    "# resumen = describe_df(data)\n",
    "# print(resumen)"
   ]
  },
  {
   "cell_type": "code",
   "execution_count": 2,
   "metadata": {},
   "outputs": [
    {
     "ename": "NameError",
     "evalue": "name 'data_example' is not defined",
     "output_type": "error",
     "traceback": [
      "\u001b[1;31m---------------------------------------------------------------------------\u001b[0m",
      "\u001b[1;31mNameError\u001b[0m                                 Traceback (most recent call last)",
      "Cell \u001b[1;32mIn[2], line 27\u001b[0m\n\u001b[0;32m     24\u001b[0m     \u001b[38;5;28;01mreturn\u001b[39;00m summary\u001b[38;5;241m.\u001b[39mtranspose()  \u001b[38;5;66;03m# Transponer el resultado para intercambiar filas por columnas\u001b[39;00m\n\u001b[0;32m     26\u001b[0m \u001b[38;5;66;03m# Utilizar la función final en el mismo DataFrame de ejemplo\u001b[39;00m\n\u001b[1;32m---> 27\u001b[0m describe_df_final(data_example)\n",
      "\u001b[1;31mNameError\u001b[0m: name 'data_example' is not defined"
     ]
    }
   ],
   "source": [
    "def describe_df(df):\n",
    "    \"\"\"\n",
    "    Genera un resumen estadístico de un dataframe proporcionando información sobre el tipo de datos,\n",
    "    porcentaje de valores nulos, valores únicos y cardinalidad de cada columna, pero con las filas\n",
    "    y columnas completamente intercambiadas respecto a la versión inicial.\n",
    "\n",
    "    Argumentos:\n",
    "    df (pd.DataFrame): El dataframe a describir.\n",
    "\n",
    "    Retorna:\n",
    "    pd.DataFrame: Un nuevo dataframe con las estadísticas de cada columna del dataframe original,\n",
    "                  con las estadísticas como columnas y las características de los datos como filas.\n",
    "    \"\"\"\n",
    "    # Preparar el dataframe de resumen con filas y columnas intercambiadas\n",
    "    summary = pd.DataFrame({\n",
    "        'Data type': df.dtypes,\n",
    "        'Percent missing': df.isna().mean() * 100,\n",
    "        'Unique values': df.nunique(),\n",
    "        'Cardinality percent': (df.nunique() / len(df)) * 100\n",
    "    })\n",
    "\n",
    "    return summary.transpose()  # Transponer el resultado para intercambiar filas por columnas\n",
    "\n",
    "# Utilizar la función final en el mismo DataFrame de ejemplo\n",
    "describe_df(data_example)\n"
   ]
  },
  {
   "cell_type": "code",
   "execution_count": null,
   "metadata": {},
   "outputs": [],
   "source": []
  },
  {
   "cell_type": "markdown",
   "metadata": {},
   "source": []
  }
 ],
 "metadata": {
  "kernelspec": {
   "display_name": "base",
   "language": "python",
   "name": "python3"
  },
  "language_info": {
   "codemirror_mode": {
    "name": "ipython",
    "version": 3
   },
   "file_extension": ".py",
   "mimetype": "text/x-python",
   "name": "python",
   "nbconvert_exporter": "python",
   "pygments_lexer": "ipython3",
   "version": "3.11.5"
  }
 },
 "nbformat": 4,
 "nbformat_minor": 2
}
