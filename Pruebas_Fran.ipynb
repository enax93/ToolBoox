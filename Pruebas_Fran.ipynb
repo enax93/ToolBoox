{
 "cells": [
  {
   "cell_type": "code",
   "execution_count": 1,
   "metadata": {},
   "outputs": [],
   "source": [
    "import pandas as pd\n",
    "from scipy.stats import pearsonr"
   ]
  },
  {
   "cell_type": "code",
   "execution_count": 2,
   "metadata": {},
   "outputs": [],
   "source": [
    "def get_features_num_regresion(dataframe, target_col, umbral_corr, pvalue= None):\n",
    "\n",
    "    '''\n",
    "    La funcion get_features_num_regresion devuelve las features para la creacion de un modelo de machine learning.\n",
    "\n",
    "    Estas features deben ser variables numericas y disponer de una correlacón y significacion estadistica significativa con el target, definidos previamente por el usuario.\n",
    "    La significacion estadistica es nula por defecto.\n",
    "\n",
    "    Argumentos:\n",
    "\n",
    "    .-dataframe(pandas.core.frame.DataFrame) -> un dataframe pandas sobre el que realizar el estudio\n",
    "    .-target_col(str) -> la columna seleccionada como target para nuestro modelo\n",
    "    .-umbral_corr(float) -> la correlacion minima exigida a una variable con el target para ser designado como feature. Debe estar comprendido entre 0 y 1\n",
    "    .-pvalue(float) -> la significacion estadistica Pearson maxima exigida a una variable para ser designada como feature (generalmente 0.005). None por defecto\n",
    "\n",
    "    Retorna:\n",
    "\n",
    "    Lista con las columnas designadas como features para el modelo.\n",
    "    Tipo lista compuesto por cadenas de texto.\n",
    "    '''\n",
    "\n",
    "    cardinalidad = dataframe[target_col].nunique() / len(dataframe[target_col]) # calculamos la cardinalidad del target\n",
    "\n",
    "    if (type(umbral_corr) != float) or (umbral_corr < 0) or (umbral_corr > 1): # comprobamos un umbral_corr aceptable\n",
    "\n",
    "        print('Variable umbral_corr incorrecto.')\n",
    "        return None\n",
    "\n",
    "    elif dataframe[target_col].dtype not in ['int8', 'int16', 'int32','int64', 'float16', 'float32', 'float64']: # comprobamos un tipo de target aceptable. Ojo que esto creo debe combinarse con el trabajo de los compañeros\n",
    "\n",
    "        print('La columna seleccionada como target debe ser numerica.')\n",
    "        return None\n",
    "    \n",
    "    elif cardinalidad < 0: # este no se si ponerlo. Comprobamos cardinalidad aceptable de target. Acorde al enunciado debe ser numerica continua, creo que este punto debe coordinarse con el trabajo de los compañeros\n",
    "        # esta a cero temporalmente\n",
    "        print('Tu variable target tiene una cardinalidad muy baja para ser target.')\n",
    "        return None\n",
    "    \n",
    "    lista_numericas = [] # creo lista de variables / columnas nuericas\n",
    "    for column in dataframe.columns: \n",
    "        \n",
    "        if dataframe[column].dtypes in ['int8', 'int16', 'int32','int64', 'float16', 'float32', 'float64']:\n",
    "            lista_numericas.append(column) \n",
    "\n",
    "    lista_numericas.remove(target_col) # elimino el target para eliminar redundancia y no incluirlo en las posibles features \n",
    "    lista_features = [] # creo lista de features \n",
    "    for columna in lista_numericas:\n",
    "\n",
    "        no_nulos = dataframe.dropna(subset= [target_col, columna]) # elimino nulos para estudiar pearson y correlacion entre variables\n",
    "        corr, pearson = pearsonr(no_nulos[target_col], no_nulos[columna]) # pearson y corr entre target y variables numericas\n",
    "\n",
    "        if pvalue != None: # si hay pvalue de entrada\n",
    "            if (abs(corr) >= umbral_corr) and (pearson <= pvalue): # si pvalue y corr pasan filtro del ausuario para adentro\n",
    "                lista_features.append(columna)\n",
    "        else: # si no hay pvalue de entrada\n",
    "            if abs(corr) >= umbral_corr: # si corr pasa filtro de entrada para adentro\n",
    "                lista_features.append(columna)\n",
    "    \n",
    "    return lista_features # devuelvo features aceptables para el usuario"
   ]
  }
 ],
 "metadata": {
  "kernelspec": {
   "display_name": "Python 3",
   "language": "python",
   "name": "python3"
  },
  "language_info": {
   "codemirror_mode": {
    "name": "ipython",
    "version": 3
   },
   "file_extension": ".py",
   "mimetype": "text/x-python",
   "name": "python",
   "nbconvert_exporter": "python",
   "pygments_lexer": "ipython3",
   "version": "3.12.0"
  }
 },
 "nbformat": 4,
 "nbformat_minor": 2
}
