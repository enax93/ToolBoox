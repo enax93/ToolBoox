{
 "cells": [
  {
   "cell_type": "markdown",
   "metadata": {},
   "source": [
    "### Funcion: get_features_cat_regression (Unai)"
   ]
  },
  {
   "cell_type": "markdown",
   "metadata": {},
   "source": [
    "Esta función recibe como argumentos un dataframe, el nombre de una de las columnas del mismo (argumento 'target_col'), que debería ser el target de un hipotético modelo de regresión, es decir debe ser una variable numérica continua o discreta pero con alta cardinalidad y una variable float \"pvalue\" cuyo valor por defecto será 0.05.\n",
    "\n",
    "La función debe devolver una lista con las columnas categóricas del dataframe cuyo test de relación con la columna designada por 'target_col' supere en confianza estadística el test de relación que sea necesario hacer (es decir la función debe poder escoger cuál de los dos test que hemos aprendido tiene que hacer).\n",
    "\n",
    "La función debe hacer todas las comprobaciones necesarias para no dar error como consecuecia de los valores de entrada. Es decir hará un check de los valores asignados a los argumentos de entrada y si estos no son adecuados debe retornar None y printar por pantalla la razón de este comportamiento. Ojo entre las comprobaciones debe estar que \"target_col\" hace referencia a una variable numérica continua del dataframe."
   ]
  },
  {
   "cell_type": "code",
   "execution_count": null,
   "metadata": {},
   "outputs": [],
   "source": []
  },
  {
   "cell_type": "code",
   "execution_count": 11,
   "metadata": {},
   "outputs": [
    {
     "name": "stdout",
     "output_type": "stream",
     "text": [
      "survived\n",
      "   survived  pclass   age  sibsp  parch     fare  adult_male  alone  \\\n",
      "0         0       3  22.0      1      0   7.2500        True  False   \n",
      "1         1       1  38.0      1      0  71.2833       False  False   \n",
      "2         1       3  26.0      0      0   7.9250       False   True   \n",
      "3         1       1  35.0      1      0  53.1000       False  False   \n",
      "4         0       3  35.0      0      0   8.0500        True   True   \n",
      "\n",
      "   sex_female  sex_male  ...  deck_C  deck_D  deck_E  deck_F  deck_G  \\\n",
      "0         0.0       1.0  ...     0.0     0.0     0.0     0.0     0.0   \n",
      "1         1.0       0.0  ...     1.0     0.0     0.0     0.0     0.0   \n",
      "2         1.0       0.0  ...     0.0     0.0     0.0     0.0     0.0   \n",
      "3         1.0       0.0  ...     1.0     0.0     0.0     0.0     0.0   \n",
      "4         0.0       1.0  ...     0.0     0.0     0.0     0.0     0.0   \n",
      "\n",
      "   embark_town_Cherbourg  embark_town_Queenstown  embark_town_Southampton  \\\n",
      "0                    0.0                     0.0                      1.0   \n",
      "1                    1.0                     0.0                      0.0   \n",
      "2                    0.0                     0.0                      1.0   \n",
      "3                    0.0                     0.0                      1.0   \n",
      "4                    0.0                     0.0                      1.0   \n",
      "\n",
      "   alive_no  alive_yes  \n",
      "0       1.0        0.0  \n",
      "1       0.0        1.0  \n",
      "2       0.0        1.0  \n",
      "3       0.0        1.0  \n",
      "4       1.0        0.0  \n",
      "\n",
      "[5 rows x 31 columns]\n",
      "2.6515526909332556\n",
      "2.718281828459045\n",
      "2.718281828459045\n",
      "2.718281828459045\n",
      "2.718281828459045\n",
      "2.718281828459045\n",
      "2.718281828459045\n",
      "2.718281828459045\n",
      "2.718281828459045\n",
      "2.718281828459045\n",
      "2.7182815058518854\n",
      "2.718281828459045\n",
      "2.718281828459045\n",
      "2.718281828459045\n",
      "2.718281828459045\n",
      "2.718281828459045\n",
      "2.718281828459045\n",
      "2.718281828459045\n",
      "2.718281828459045\n",
      "2.718281828459045\n",
      "2.718281828459045\n",
      "2.718281828459045\n",
      "1.6487212707001282\n",
      "[['sex_female', -1.9624576980927138, -3.3031053818665113], ['sex_male', 16.47062710899244, -3.43656365691809], ['embarked_C', -14.894312516755193, -3.43656365691809], ['embarked_Q', -31.57790488157078, -3.43656365691809], ['embarked_S', 22.589703776830106, -3.43656365691809], ['class_First', -9.844344117873527, -3.43656365691809], ['class_Second', -13.06873259821914, -3.43656365691809], ['class_Third', 10.030221644220008, -3.43656365691809], ['who_child', -29.836648695720836, -3.43656365691809], ['who_man', 13.342611502131318, -3.43656365691809], ['who_woman', -5.167409292419272, -3.436563011703771], ['deck_A', -85.10303988260577, -3.43656365691809], ['deck_B', -44.187239113047134, -3.43656365691809], ['deck_C', -38.10603568986658, -3.43656365691809], ['deck_D', -54.78389028223967, -3.43656365691809], ['deck_E', -55.78084977299063, -3.43656365691809], ['deck_F', -91.8696299756498, -3.43656365691809], ['deck_G', -169.28555356888876, -3.43656365691809], ['embark_town_Cherbourg', -14.894312516755193, -3.43656365691809], ['embark_town_Queenstown', -31.57790488157078, -3.43656365691809], ['embark_town_Southampton', 22.589703776830106, -3.43656365691809], ['alive_no', 14.251682007205735, -3.43656365691809], ['alive_yes', 0.0, -1.2974425414002564]]\n"
     ]
    },
    {
     "data": {
      "text/plain": [
       "['sex', 'class', 'deck', 'embark', 'alive', 'who', 'embarked']"
      ]
     },
     "execution_count": 11,
     "metadata": {},
     "output_type": "execute_result"
    }
   ],
   "source": [
    "import pandas as pd\n",
    "import numpy as np\n",
    "from scipy import stats\n",
    "from scipy.stats import chi2_contingency\n",
    "from sklearn.preprocessing import OrdinalEncoder\n",
    "\n",
    "def get_features_cat_regression(df, target_col, p_value=0.01):\n",
    "    if df.empty:\n",
    "        print(\"El dataframe esta vacío\")\n",
    "        return None\n",
    "    if not pd.api.types.is_numeric_dtype(df[target_col]):\n",
    "        print(\"La columna que has puesto no es una columna numerica\")\n",
    "        return None\n",
    "    if not isinstance(p_value, float) or 0 > p_value or 1 < p_value:\n",
    "        print(\"El p_value no tiene un valor valido, recuerda que tiene que estar entre 0 y 1\")\n",
    "        return None\n",
    "    if target_col not in df:\n",
    "        print(\"La columna no esta en el Dataframe, cambiala por una valida\")\n",
    "        return None\n",
    "    \n",
    "    categorical_columns = df.select_dtypes(include=['object']).columns.tolist()\n",
    "    \n",
    "    #ordinal_encoder = OrdinalEncoder(categorical_columns)\n",
    "\n",
    "    encoded_df = pd.get_dummies(df_titanic, columns=categorical_columns, dtype=float)\n",
    "    encoded_columns = encoded_df.columns\n",
    "    new_categorical_columns = [col for col in encoded_columns if col.startswith(tuple(categorical_columns))]\n",
    "\n",
    "    print(encoded_df.head())\n",
    "\n",
    "    #categorical_columns = df.select_dtypes(include=['object']).columns.tolist()\n",
    "\n",
    "    #if df['survived'].shape[0]<30:\n",
    "    significant_columns = []\n",
    "    for col in new_categorical_columns:\n",
    "        if df['survived'].shape[0]<30:\n",
    "            t_statistic, p_value_t = stats.ttest_ind(encoded_df[col], encoded_df[target_col], nan_policy='omit')\n",
    "            if p_value_t < p_value:\n",
    "                significant_columns.append([col, t_statistic, p_value_t])\n",
    "        else:\n",
    "            z_statistic = (encoded_df[col].mean() - encoded_df[target_col].mean()) / (encoded_df[col].std() / np.sqrt(len(encoded_df)))\n",
    "            print(np.exp(stats.norm.cdf(abs(z_statistic))))\n",
    "            p_value_z = 2 * (1 - np.exp(stats.norm.cdf(abs(z_statistic))))\n",
    "            if p_value_z < p_value:\n",
    "                significant_columns.append([col, z_statistic, p_value_z])\n",
    "                \n",
    "    print(significant_columns)\n",
    "    significant_categorical_cols = [col[0].split('_')[0] for col in significant_columns ]\n",
    "    significant_categorical_cols = list(set(significant_categorical_cols))\n",
    "\n",
    "\n",
    "    return significant_categorical_cols\n",
    "    \n",
    "df_titanic = pd.read_csv('./data/titanic.csv')\n",
    "target_col='survived'\n",
    "print(target_col)\n",
    "get_features_cat_regression(df_titanic,target_col)"
   ]
  },
  {
   "cell_type": "code",
   "execution_count": 8,
   "metadata": {},
   "outputs": [
    {
     "name": "stdout",
     "output_type": "stream",
     "text": [
      "survived\n"
     ]
    },
    {
     "name": "stderr",
     "output_type": "stream",
     "text": [
      "c:\\Users\\unais\\anaconda3\\envs\\DataScience\\Lib\\site-packages\\scipy\\stats\\_stats_py.py:4167: ConstantInputWarning: Each of the input arrays is constant;the F statistic is not defined or infinite\n",
      "  warnings.warn(stats.ConstantInputWarning(msg))\n"
     ]
    },
    {
     "data": {
      "text/plain": [
       "[['sex', 372.4057236022147, 1.406066130879677e-69],\n",
       " ['embarked', 13.605270445693582, 1.514339014290716e-06],\n",
       " ['class', 57.964817590910116, 2.1832474151179777e-24],\n",
       " ['who', 207.65379810794602, 1.0340021305330169e-74],\n",
       " ['embark_town', 13.605270445693582, 1.514339014290716e-06],\n",
       " ['alive', inf, 0.0]]"
      ]
     },
     "execution_count": 8,
     "metadata": {},
     "output_type": "execute_result"
    }
   ],
   "source": [
    "\n",
    "\n",
    "from scipy.stats import mannwhitneyu\n",
    "import pandas as pd\n",
    "import numpy as np\n",
    "from scipy import stats\n",
    "\n",
    "def get_features_cat_regression(df, target_col, p_value=0.05):\n",
    "    if df.empty:\n",
    "        print(\"El dataframe esta vacío\")\n",
    "        return None\n",
    "    if not pd.api.types.is_numeric_dtype(df[target_col]):\n",
    "        print(\"La columna que has puesto no es una columna numerica\")\n",
    "        return None\n",
    "    if not isinstance(p_value, float) or 0 > p_value or 1 < p_value:\n",
    "        print(\"El p_value no tiene un valor valido, recuerda que tiene que estar entre 0 y 1\")\n",
    "        return None\n",
    "    if target_col not in df:\n",
    "        print(\"La columna no esta en el Dataframe, cambiala por una valida\")\n",
    "        return None\n",
    "    \n",
    "    categorical_columns = df.select_dtypes(include=['object']).columns.tolist()\n",
    "    \n",
    "    relevant_columns = []\n",
    "    \n",
    "    for col in categorical_columns:\n",
    "        grouped = df.groupby(col)[target_col].apply(list).to_dict()\n",
    "        f_vals = []\n",
    "        for key, value in grouped.items():\n",
    "            f_vals.append(value)\n",
    "        f_val, p_val = stats.f_oneway(*f_vals)\n",
    "        if p_val <= p_value:\n",
    "            relevant_columns.append([col, f_val, p_val])\n",
    "\n",
    "    return relevant_columns\n",
    "\n",
    "df_titanic = pd.read_csv('./data/titanic.csv')\n",
    "target_col='survived'\n",
    "print(target_col)\n",
    "get_features_cat_regression(df_titanic,target_col)"
   ]
  },
  {
   "cell_type": "code",
   "execution_count": null,
   "metadata": {},
   "outputs": [],
   "source": []
  }
 ],
 "metadata": {
  "kernelspec": {
   "display_name": "DataScience",
   "language": "python",
   "name": "python3"
  },
  "language_info": {
   "codemirror_mode": {
    "name": "ipython",
    "version": 3
   },
   "file_extension": ".py",
   "mimetype": "text/x-python",
   "name": "python",
   "nbconvert_exporter": "python",
   "pygments_lexer": "ipython3",
   "version": "3.11.7"
  }
 },
 "nbformat": 4,
 "nbformat_minor": 2
}
