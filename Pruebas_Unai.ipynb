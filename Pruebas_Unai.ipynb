{
 "cells": [
  {
   "cell_type": "markdown",
   "metadata": {},
   "source": [
    "### Funcion: get_features_cat_regression (Unai)"
   ]
  },
  {
   "cell_type": "markdown",
   "metadata": {},
   "source": [
    "Esta función recibe como argumentos un dataframe, el nombre de una de las columnas del mismo (argumento 'target_col'), que debería ser el target de un hipotético modelo de regresión, es decir debe ser una variable numérica continua o discreta pero con alta cardinalidad y una variable float \"pvalue\" cuyo valor por defecto será 0.05.\n",
    "\n",
    "La función debe devolver una lista con las columnas categóricas del dataframe cuyo test de relación con la columna designada por 'target_col' supere en confianza estadística el test de relación que sea necesario hacer (es decir la función debe poder escoger cuál de los dos test que hemos aprendido tiene que hacer).\n",
    "\n",
    "La función debe hacer todas las comprobaciones necesarias para no dar error como consecuecia de los valores de entrada. Es decir hará un check de los valores asignados a los argumentos de entrada y si estos no son adecuados debe retornar None y printar por pantalla la razón de este comportamiento. Ojo entre las comprobaciones debe estar que \"target_col\" hace referencia a una variable numérica continua del dataframe."
   ]
  },
  {
   "cell_type": "code",
   "execution_count": 2,
   "metadata": {},
   "outputs": [
    {
     "name": "stdout",
     "output_type": "stream",
     "text": [
      "survived\n"
     ]
    },
    {
     "name": "stderr",
     "output_type": "stream",
     "text": [
      "C:\\Users\\franc\\AppData\\Local\\Temp\\ipykernel_13644\\1525425880.py:29: ConstantInputWarning: Each of the input arrays is constant; the F statistic is not defined or infinite\n",
      "  f_val, p_val = stats.f_oneway(*f_vals)\n"
     ]
    },
    {
     "data": {
      "text/plain": [
       "['sex', 'embarked', 'class', 'who', 'embark_town', 'alive']"
      ]
     },
     "execution_count": 2,
     "metadata": {},
     "output_type": "execute_result"
    }
   ],
   "source": [
    "\n",
    "\n",
    "from scipy.stats import mannwhitneyu\n",
    "import pandas as pd\n",
    "import numpy as np\n",
    "from scipy import stats\n",
    "\n",
    "def get_features_cat_regression(df, target_col, p_value=0.05):\n",
    "    if df.empty:\n",
    "        print(\"El dataframe esta vacío\")\n",
    "        return None\n",
    "    if not pd.api.types.is_numeric_dtype(df[target_col]):\n",
    "        print(\"La columna que has puesto no es una columna numerica\")\n",
    "        return None\n",
    "    if not isinstance(p_value, float) or 0 > p_value or 1 < p_value:\n",
    "        print(\"El p_value no tiene un valor valido, recuerda que tiene que estar entre 0 y 1\")\n",
    "        return None\n",
    "    if target_col not in df:\n",
    "        print(\"La columna no esta en el Dataframe, cambiala por una valida\")\n",
    "        return None\n",
    "    \n",
    "    categorical_columns = df.select_dtypes(include=['object']).columns.tolist()\n",
    "    \n",
    "    relevant_columns = []\n",
    "    \n",
    "    for col in categorical_columns:\n",
    "        grouped = df.groupby(col)[target_col].apply(list).to_dict()\n",
    "        f_vals = []\n",
    "        for key, value in grouped.items():\n",
    "            f_vals.append(value)\n",
    "        f_val, p_val = stats.f_oneway(*f_vals)\n",
    "        if p_val <= p_value:\n",
    "            relevant_columns.append(col)\n",
    "\n",
    "    return relevant_columns\n",
    "\n",
    "df_titanic = pd.read_csv('./data/titanic.csv')\n",
    "target_col='survived'\n",
    "print(target_col)\n",
    "get_features_cat_regression(df_titanic,target_col)"
   ]
  },
  {
   "cell_type": "code",
   "execution_count": null,
   "metadata": {},
   "outputs": [],
   "source": []
  }
 ],
 "metadata": {
  "kernelspec": {
   "display_name": "DataScience",
   "language": "python",
   "name": "python3"
  },
  "language_info": {
   "codemirror_mode": {
    "name": "ipython",
    "version": 3
   },
   "file_extension": ".py",
   "mimetype": "text/x-python",
   "name": "python",
   "nbconvert_exporter": "python",
   "pygments_lexer": "ipython3",
   "version": "3.12.0"
  }
 },
 "nbformat": 4,
 "nbformat_minor": 2
}
