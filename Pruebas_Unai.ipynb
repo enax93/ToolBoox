{
 "cells": [
  {
   "cell_type": "markdown",
   "metadata": {},
   "source": [
    "### Funcion: get_features_cat_regression (Unai)"
   ]
  },
  {
   "cell_type": "markdown",
   "metadata": {},
   "source": [
    "Esta función recibe como argumentos un dataframe, el nombre de una de las columnas del mismo (argumento 'target_col'), que debería ser el target de un hipotético modelo de regresión, es decir debe ser una variable numérica continua o discreta pero con alta cardinalidad y una variable float \"pvalue\" cuyo valor por defecto será 0.05.\n",
    "\n",
    "La función debe devolver una lista con las columnas categóricas del dataframe cuyo test de relación con la columna designada por 'target_col' supere en confianza estadística el test de relación que sea necesario hacer (es decir la función debe poder escoger cuál de los dos test que hemos aprendido tiene que hacer).\n",
    "\n",
    "La función debe hacer todas las comprobaciones necesarias para no dar error como consecuecia de los valores de entrada. Es decir hará un check de los valores asignados a los argumentos de entrada y si estos no son adecuados debe retornar None y printar por pantalla la razón de este comportamiento. Ojo entre las comprobaciones debe estar que \"target_col\" hace referencia a una variable numérica continua del dataframe."
   ]
  },
  {
   "cell_type": "code",
   "execution_count": 2,
   "metadata": {},
   "outputs": [
    {
     "name": "stdout",
     "output_type": "stream",
     "text": [
      "survived\n",
      "Index(['survived', 'pclass', 'age', 'sibsp', 'parch', 'fare', 'adult_male',\n",
      "       'alone', 'sex_female', 'sex_male', 'embarked_C', 'embarked_Q',\n",
      "       'embarked_S', 'class_First', 'class_Second', 'class_Third', 'who_child',\n",
      "       'who_man', 'who_woman', 'deck_A', 'deck_B', 'deck_C', 'deck_D',\n",
      "       'deck_E', 'deck_F', 'deck_G', 'embark_town_Cherbourg',\n",
      "       'embark_town_Queenstown', 'embark_town_Southampton', 'alive_no',\n",
      "       'alive_yes'],\n",
      "      dtype='object')\n"
     ]
    },
    {
     "data": {
      "text/plain": [
       "[['sex_female', -1.9624576980927146, 0.04970922095946384],\n",
       " ['sex_male', 16.470627108992453, 0.0],\n",
       " ['embarked_C', -14.894312516755159, 0.0],\n",
       " ['embarked_Q', -31.577904881570777, 0.0],\n",
       " ['embarked_S', 22.589703776829896, 0.0],\n",
       " ['class_First', -9.844344117873527, 0.0],\n",
       " ['class_Second', -13.06873259821916, 0.0],\n",
       " ['class_Third', 10.03022164422, 0.0],\n",
       " ['who_child', -29.836648695720914, 0.0],\n",
       " ['who_man', 13.3426115021314, 0.0],\n",
       " ['who_woman', -5.167409292419316, 2.3736109744376677e-07],\n",
       " ['deck_A', -85.10303988260512, 0.0],\n",
       " ['deck_B', -44.18723911304709, 0.0],\n",
       " ['deck_C', -38.10603568986668, 0.0],\n",
       " ['deck_D', -54.783890282239476, 0.0],\n",
       " ['deck_E', -55.78084977299084, 0.0],\n",
       " ['deck_F', -91.86962997564879, 0.0],\n",
       " ['deck_G', -169.28555356888887, 0.0],\n",
       " ['embark_town_Cherbourg', -14.894312516755159, 0.0],\n",
       " ['embark_town_Queenstown', -31.577904881570777, 0.0],\n",
       " ['embark_town_Southampton', 22.589703776829896, 0.0],\n",
       " ['alive_no', 14.251682007205766, 0.0]]"
      ]
     },
     "execution_count": 2,
     "metadata": {},
     "output_type": "execute_result"
    }
   ],
   "source": [
    "import pandas as pd\n",
    "import numpy as np\n",
    "from scipy import stats\n",
    "\n",
    "def get_features_cat_regression(df, target_col, p_value=0.05):\n",
    "    if df.empty:\n",
    "        print(\"El dataframe esta vacío\")\n",
    "        return None\n",
    "    if not pd.api.types.is_numeric_dtype(df[target_col]):\n",
    "        print(\"La columna que has puesto no es una columna numerica\")\n",
    "        return None\n",
    "    if not isinstance(p_value, float) or 0 > p_value or 1 < p_value:\n",
    "        print(\"El p_value no tiene un valor valido, recuerda que tiene que estar entre 0 y 1\")\n",
    "        return None\n",
    "    if target_col not in df:\n",
    "        print(\"La columna no esta en el Dataframe, cambiala por una valida\")\n",
    "        return None\n",
    "    \n",
    "    categorical_columns = df.select_dtypes(include=['object']).columns.tolist()\n",
    "\n",
    "    encoded_df = pd.get_dummies(df_titanic, columns=categorical_columns)\n",
    "    encoded_columns = encoded_df.columns\n",
    "    new_categorical_columns = [col for col in encoded_columns if col.startswith(tuple(categorical_columns))]\n",
    "\n",
    "    print(encoded_columns)\n",
    "\n",
    "    #categorical_columns = df.select_dtypes(include=['object']).columns.tolist()\n",
    "\n",
    "    #if df['survived'].shape[0]<30:\n",
    "    significant_columns = []\n",
    "    for col in new_categorical_columns:\n",
    "        if df['survived'].shape[0]<30:\n",
    "            t_statistic, p_value_t = stats.ttest_ind(encoded_df[col], encoded_df[target_col], nan_policy='omit')\n",
    "            if p_value_t < p_value:\n",
    "                significant_columns.append([col, t_statistic, p_value_t])\n",
    "        else:\n",
    "            z_statistic = (encoded_df[col].mean() - encoded_df[target_col].mean()) / (encoded_df[col].std() / np.sqrt(len(encoded_df)))\n",
    "            p_value_z = 2 * (1 - stats.norm.cdf(abs(z_statistic)))\n",
    "            if p_value_z < p_value:\n",
    "                significant_columns.append([col, z_statistic, p_value_z])\n",
    "\n",
    "    return significant_columns\n",
    "    \n",
    "df_titanic = pd.read_csv('./data/titanic.csv')\n",
    "target_col='survived'\n",
    "print(target_col)\n",
    "get_features_cat_regression(df_titanic,target_col)"
   ]
  },
  {
   "cell_type": "code",
   "execution_count": null,
   "metadata": {},
   "outputs": [],
   "source": []
  }
 ],
 "metadata": {
  "kernelspec": {
   "display_name": "DataScience",
   "language": "python",
   "name": "python3"
  },
  "language_info": {
   "codemirror_mode": {
    "name": "ipython",
    "version": 3
   },
   "file_extension": ".py",
   "mimetype": "text/x-python",
   "name": "python",
   "nbconvert_exporter": "python",
   "pygments_lexer": "ipython3",
   "version": "3.11.7"
  }
 },
 "nbformat": 4,
 "nbformat_minor": 2
}
