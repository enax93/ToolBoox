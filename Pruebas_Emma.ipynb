{
 "cells": [
  {
   "cell_type": "code",
   "execution_count": 1,
   "metadata": {},
   "outputs": [],
   "source": [
    "import pandas as pd"
   ]
  },
  {
   "cell_type": "markdown",
   "metadata": {},
   "source": [
    "### Funcion: tipifica_variables\n",
    "\n",
    "Esta función debe recibir como argumento un dataframe, un entero (`umbral_categoria`) y un float (`umbral_continua`). La función debe devolver un dataframe con dos columnas \"nombre_variable\", \"tipo_sugerido\" que tendrá tantas filas como columnas el dataframe. En cada fila irá el nombre de una de las columnas y una sugerencia del tipo de variable. Esta sugerencia se hará siguiendo las siguientes pautas:\n",
    "+ Si la cardinalidad es 2, asignara \"Binaria\"\n",
    "+ Si la cardinalidad es menor que `umbral_categoria` asignara \"Categórica\"\n",
    "+ Si la cardinalidad es mayor o igual que `umbral_categoria`, entonces entra en juego el tercer argumento:\n",
    "    * Si además el porcentaje de cardinalidad es superior o igual a `umbral_continua`, asigna \"Numerica Continua\"\n",
    "    * En caso contrario, asigna \"Numerica Discreta\"\n"
   ]
  },
  {
   "cell_type": "code",
   "execution_count": 2,
   "metadata": {},
   "outputs": [],
   "source": [
    "def tipifica_variables(dataframe, umbral_categoria, umbral_continua):\n",
    "    # Inicializar una lista para almacenar los resultados\n",
    "    resultados = []\n",
    "    \n",
    "    # Iterar sobre cada columna del dataframe\n",
    "    for columna in dataframe.columns:\n",
    "        # Calcular la cardinalidad de la columna\n",
    "        cardinalidad = dataframe[columna].nunique()\n",
    "        \n",
    "        # Calcular el porcentaje de cardinalidad\n",
    "        porcentaje_cardinalidad = cardinalidad / len(dataframe)\n",
    "        \n",
    "        # Determinar el tipo de variable\n",
    "        if cardinalidad == 2:\n",
    "            tipo_sugerido = \"Binaria\"\n",
    "        elif cardinalidad < umbral_categoria:\n",
    "            tipo_sugerido = \"Categórica\"\n",
    "        else:\n",
    "            if porcentaje_cardinalidad >= umbral_continua:\n",
    "                tipo_sugerido = \"Numerica Continua\"\n",
    "            else:\n",
    "                tipo_sugerido = \"Numerica Discreta\"\n",
    "        \n",
    "        # Agregar el resultado a la lista\n",
    "        resultados.append({'nombre_variable': columna, 'tipo_sugerido': tipo_sugerido})\n",
    "    \n",
    "    # Convertir la lista de resultados en un DataFrame y devolverlo\n",
    "    return pd.DataFrame(resultados)"
   ]
  },
  {
   "cell_type": "code",
   "execution_count": 3,
   "metadata": {},
   "outputs": [
    {
     "name": "stdout",
     "output_type": "stream",
     "text": [
      "      nombre_variable      tipo_sugerido\n",
      "0           abilities  Numerica Discreta\n",
      "1         against_bug         Categórica\n",
      "2        against_dark         Categórica\n",
      "3      against_dragon         Categórica\n",
      "4    against_electric         Categórica\n",
      "5       against_fairy         Categórica\n",
      "6       against_fight         Categórica\n",
      "7        against_fire         Categórica\n",
      "8      against_flying         Categórica\n",
      "9       against_ghost         Categórica\n",
      "10      against_grass         Categórica\n",
      "11     against_ground         Categórica\n",
      "12        against_ice         Categórica\n",
      "13     against_normal         Categórica\n",
      "14     against_poison         Categórica\n",
      "15    against_psychic         Categórica\n",
      "16       against_rock         Categórica\n",
      "17      against_steel         Categórica\n",
      "18      against_water         Categórica\n",
      "19             attack  Numerica Discreta\n",
      "20     base_egg_steps  Numerica Discreta\n",
      "21     base_happiness         Categórica\n",
      "22         base_total  Numerica Discreta\n",
      "23       capture_rate  Numerica Discreta\n",
      "24      classfication  Numerica Discreta\n",
      "25            defense  Numerica Discreta\n",
      "26  experience_growth         Categórica\n",
      "27           height_m  Numerica Discreta\n",
      "28                 hp  Numerica Discreta\n",
      "29      japanese_name  Numerica Continua\n",
      "30               name  Numerica Continua\n",
      "31    percentage_male         Categórica\n",
      "32     pokedex_number  Numerica Continua\n",
      "33          sp_attack  Numerica Discreta\n",
      "34         sp_defense  Numerica Discreta\n",
      "35              speed  Numerica Discreta\n",
      "36              type1  Numerica Discreta\n",
      "37              type2  Numerica Discreta\n",
      "38          weight_kg  Numerica Discreta\n",
      "39         generation         Categórica\n",
      "40       is_legendary            Binaria\n"
     ]
    }
   ],
   "source": [
    "# Ejemplo de uso:\n",
    "df_pkmn = pd.read_csv('./data/pokemon.csv')\n",
    "\n",
    "pkmn = tipifica_variables(df_pkmn, umbral_categoria=10, umbral_continua=0.8)\n",
    "print(pkmn)"
   ]
  },
  {
   "cell_type": "code",
   "execution_count": 4,
   "metadata": {},
   "outputs": [
    {
     "name": "stdout",
     "output_type": "stream",
     "text": [
      "   nombre_variable      tipo_sugerido\n",
      "0         survived            Binaria\n",
      "1           pclass         Categórica\n",
      "2              sex            Binaria\n",
      "3              age  Numerica Discreta\n",
      "4            sibsp         Categórica\n",
      "5            parch         Categórica\n",
      "6             fare  Numerica Discreta\n",
      "7         embarked         Categórica\n",
      "8            class         Categórica\n",
      "9              who         Categórica\n",
      "10      adult_male            Binaria\n",
      "11            deck         Categórica\n",
      "12     embark_town         Categórica\n",
      "13           alive            Binaria\n",
      "14           alone            Binaria\n"
     ]
    }
   ],
   "source": [
    "# Ejemplo de uso:\n",
    "df_titanic = pd.read_csv('./data/titanic.csv')\n",
    "\n",
    "titanic = tipifica_variables(df_titanic, umbral_categoria=10, umbral_continua=0.8)\n",
    "print(titanic)"
   ]
  },
  {
   "cell_type": "code",
   "execution_count": 7,
   "metadata": {},
   "outputs": [
    {
     "name": "stdout",
     "output_type": "stream",
     "text": [
      "       nombre_variable      tipo_sugerido\n",
      "0           Unnamed: 0  Numerica Continua\n",
      "1                 city  Numerica Continua\n",
      "2                 latd  Numerica Continua\n",
      "3                longd  Numerica Continua\n",
      "4          elevation_m  Numerica Discreta\n",
      "5         elevation_ft  Numerica Discreta\n",
      "6     population_total  Numerica Continua\n",
      "7     area_total_sq_mi  Numerica Continua\n",
      "8      area_land_sq_mi  Numerica Continua\n",
      "9     area_water_sq_mi  Numerica Discreta\n",
      "10      area_total_km2  Numerica Continua\n",
      "11       area_land_km2  Numerica Continua\n",
      "12      area_water_km2  Numerica Discreta\n",
      "13  area_water_percent  Numerica Discreta\n"
     ]
    }
   ],
   "source": [
    "# Ejemplo de uso:\n",
    "df_cities = pd.read_csv('./data/california_cities.csv')\n",
    "\n",
    "cities = tipifica_variables(df_cities, umbral_categoria=10, umbral_continua=0.8)\n",
    "print(cities)"
   ]
  },
  {
   "cell_type": "code",
   "execution_count": null,
   "metadata": {},
   "outputs": [],
   "source": []
  }
 ],
 "metadata": {
  "kernelspec": {
   "display_name": "Python 3",
   "language": "python",
   "name": "python3"
  },
  "language_info": {
   "codemirror_mode": {
    "name": "ipython",
    "version": 3
   },
   "file_extension": ".py",
   "mimetype": "text/x-python",
   "name": "python",
   "nbconvert_exporter": "python",
   "pygments_lexer": "ipython3",
   "version": "3.12.0"
  }
 },
 "nbformat": 4,
 "nbformat_minor": 2
}
